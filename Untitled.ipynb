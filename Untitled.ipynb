{
 "cells": [
  {
   "cell_type": "markdown",
   "id": "5b5ed14e",
   "metadata": {},
   "source": [
    "# Exercise-1\n",
    "Given two integer numbers return their product. If the product is greater than 1000, then return their sum."
   ]
  },
  {
   "cell_type": "code",
   "execution_count": 12,
   "id": "af057384",
   "metadata": {},
   "outputs": [
    {
     "data": {
      "text/plain": [
       "200"
      ]
     },
     "execution_count": 12,
     "metadata": {},
     "output_type": "execute_result"
    }
   ],
   "source": [
    "def func(num1,num2):\n",
    "    if(num1 * num1)>1000:\n",
    "        return num1+num2\n",
    "    else:\n",
    "        return num1*num2\n",
    "\n",
    "func(10,20)\n"
   ]
  },
  {
   "cell_type": "markdown",
   "id": "40337c6b",
   "metadata": {},
   "source": [
    "# Exercise-2\n",
    "Given a range of the first 10 numbers, Iterate from the start number to the end number, and In each iteration\n",
    " print the sum of the current number and previous number"
   ]
  },
  {
   "cell_type": "code",
   "execution_count": 14,
   "id": "e53e136f",
   "metadata": {},
   "outputs": [
    {
     "name": "stdout",
     "output_type": "stream",
     "text": [
      "range(0, 10)\n",
      "0-->0\n",
      "1-->1\n",
      "2-->3\n",
      "3-->5\n",
      "4-->7\n",
      "5-->9\n",
      "6-->11\n",
      "7-->13\n",
      "8-->15\n",
      "9-->17\n"
     ]
    }
   ],
   "source": [
    "counter = 0\n",
    "lists = range(10)\n",
    "print(lists)\n",
    "for x in lists:\n",
    "    if counter != 0:\n",
    "        sum = x + lists[counter-1]\n",
    "    else:\n",
    "        sum = x \n",
    "    print(f\"{x}-->{sum}\")\n",
    "    counter +=1"
   ]
  },
  {
   "cell_type": "markdown",
   "id": "69bad48e",
   "metadata": {},
   "source": [
    "# Exercise 3\n",
    "Print First 10 natural numbers using while loop."
   ]
  },
  {
   "cell_type": "code",
   "execution_count": 16,
   "id": "c26889e3",
   "metadata": {},
   "outputs": [
    {
     "name": "stdout",
     "output_type": "stream",
     "text": [
      "1\n",
      "2\n",
      "3\n",
      "4\n",
      "5\n",
      "6\n",
      "7\n",
      "8\n",
      "9\n",
      "10\n"
     ]
    }
   ],
   "source": [
    "natural_numbers = range(1,100,1)\n",
    "counter = 0\n",
    "while counter < 10:\n",
    "    print(natural_numbers[counter])\n",
    "    counter += 1"
   ]
  },
  {
   "cell_type": "markdown",
   "id": "c7486f15",
   "metadata": {},
   "source": [
    "# Exercise 4\n",
    "Accept number from user and calculate the sum of all number from 1 to a given number"
   ]
  },
  {
   "cell_type": "code",
   "execution_count": 34,
   "id": "879f804e",
   "metadata": {},
   "outputs": [
    {
     "name": "stdout",
     "output_type": "stream",
     "text": [
      "Enter a Number: 5\n",
      "1\n",
      "2\n",
      "3\n",
      "4\n",
      "5\n",
      "15\n"
     ]
    }
   ],
   "source": [
    "user_input = int(input(\"Enter a Number: \"))\n",
    "sum = 0\n",
    "for x in range(1,user_input+1):\n",
    "    print(x)\n",
    "    sum += int(x)\n",
    "print(sum)"
   ]
  },
  {
   "cell_type": "markdown",
   "id": "f366df65",
   "metadata": {},
   "source": [
    "# Exercise 5 \n",
    "Given a list, iterate it, and display numbers divisible by five, and if you find a number greater than 150, stop the loop iteration."
   ]
  },
  {
   "cell_type": "code",
   "execution_count": 37,
   "id": "24c8455d",
   "metadata": {},
   "outputs": [
    {
     "name": "stdout",
     "output_type": "stream",
     "text": [
      "10\n",
      "20\n",
      "40\n"
     ]
    }
   ],
   "source": [
    "lists = [10,20,3,40,170,35]\n",
    "for x in lists:\n",
    "    if(x > 150):\n",
    "        break\n",
    "    elif(x//5):\n",
    "        print(x)\n",
    "    else:\n",
    "        pass\n",
    "        "
   ]
  },
  {
   "cell_type": "markdown",
   "id": "41462b17",
   "metadata": {},
   "source": [
    "# Exercise 6\n",
    "Reverse the following list using for loop\n"
   ]
  },
  {
   "cell_type": "code",
   "execution_count": 45,
   "id": "bfc5b686",
   "metadata": {},
   "outputs": [
    {
     "name": "stdout",
     "output_type": "stream",
     "text": [
      "[5, 4, 3, 2, 1]\n"
     ]
    }
   ],
   "source": [
    "my_list=[1,2,3,4,5]\n",
    "output_list = []\n",
    "index = len(my_list)\n",
    "for x in range(index):\n",
    "    output_list.append(my_list[index-1])\n",
    "    index -= 1\n",
    "print(output_list)"
   ]
  },
  {
   "cell_type": "markdown",
   "id": "2d2c8bab",
   "metadata": {},
   "source": [
    "# Exercise 7\n",
    "Display “My Name Is James” as “My**Name**Is**James” using output formatting of a print() function"
   ]
  },
  {
   "cell_type": "code",
   "execution_count": 47,
   "id": "8ec30b2a",
   "metadata": {},
   "outputs": [
    {
     "name": "stdout",
     "output_type": "stream",
     "text": [
      "My**Name**Is**Tamim\n"
     ]
    }
   ],
   "source": [
    "print('My', 'Name', 'Is', 'Tamim',sep = '**')"
   ]
  },
  {
   "cell_type": "markdown",
   "id": "b6b7e090",
   "metadata": {},
   "source": [
    "# Exercise 8\n",
    "Concatenate two lists index-wise"
   ]
  },
  {
   "cell_type": "code",
   "execution_count": 51,
   "id": "be90bcb3",
   "metadata": {},
   "outputs": [
    {
     "name": "stdout",
     "output_type": "stream",
     "text": [
      "['Dhk100', 'Khl200', 'ctg300', 'syt400']\n"
     ]
    }
   ],
   "source": [
    "list1 = [\"Dhk\",\"Khl\",\"ctg\",\"syt\"]\n",
    "list2 = [\"100\",\"200\",\"300\",\"400\"]\n",
    "list3 = []\n",
    "counter = 0\n",
    "for x in list1:\n",
    "    list3.append(x+list2[counter])\n",
    "    counter = counter +1\n",
    "print(list3)"
   ]
  },
  {
   "cell_type": "markdown",
   "id": "4461dbb5",
   "metadata": {},
   "source": [
    "# Exercise 9\n",
    "Given a Python list of numbers. Turn every item of a list into its square"
   ]
  },
  {
   "cell_type": "code",
   "execution_count": 53,
   "id": "79d30cfc",
   "metadata": {},
   "outputs": [
    {
     "name": "stdout",
     "output_type": "stream",
     "text": [
      "[4, 16, 25, 36, 49, 64]\n"
     ]
    }
   ],
   "source": [
    "list1 = [2,4,5,6,7,8]\n",
    "square_list = []\n",
    "for x in list1:\n",
    "    square_list.append(x*x)\n",
    "print(square_list)"
   ]
  },
  {
   "cell_type": "markdown",
   "id": "2610dcc6",
   "metadata": {},
   "source": [
    "# Exercise 10\n",
    "Access value 20 from the following tuple -> aTuple = (\"Orange\", [10, 20, 30], (5, 15, 25))"
   ]
  },
  {
   "cell_type": "code",
   "execution_count": 55,
   "id": "d18d5b56",
   "metadata": {},
   "outputs": [
    {
     "name": "stdout",
     "output_type": "stream",
     "text": [
      "20\n"
     ]
    }
   ],
   "source": [
    "aTuple = (\"Orange\", [10, 20, 30], (5, 15, 25))\n",
    "value = aTuple[1][1]\n",
    "print(value)"
   ]
  }
 ],
 "metadata": {
  "kernelspec": {
   "display_name": "Python 3 (ipykernel)",
   "language": "python",
   "name": "python3"
  },
  "language_info": {
   "codemirror_mode": {
    "name": "ipython",
    "version": 3
   },
   "file_extension": ".py",
   "mimetype": "text/x-python",
   "name": "python",
   "nbconvert_exporter": "python",
   "pygments_lexer": "ipython3",
   "version": "3.9.7"
  }
 },
 "nbformat": 4,
 "nbformat_minor": 5
}
